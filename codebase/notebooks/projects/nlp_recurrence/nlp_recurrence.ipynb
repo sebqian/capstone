{
 "cells": [
  {
   "cell_type": "code",
   "execution_count": null,
   "metadata": {},
   "outputs": [],
   "source": [
    "import codebase.codebase_settings as cbs\n",
    "from codebase.preprocessor.text import pdf_to_text\n",
    "\n",
    "%load_ext autoreload\n",
    "%autoreload 2"
   ]
  },
  {
   "cell_type": "code",
   "execution_count": null,
   "metadata": {},
   "outputs": [],
   "source": [
    "pdf_op = pdf_to_text.PDFtoTextGenerator()"
   ]
  },
  {
   "cell_type": "code",
   "execution_count": null,
   "metadata": {},
   "outputs": [],
   "source": [
    "file_path = cbs.DATA_PATH / 'nlp_data' / 'sample_med_summary.pdf'\n",
    "output_path = cbs.DATA_PATH / 'nlp_data' / 'sample_med_summary.txt'\n",
    "pdf_op.read_pdf(file_path, output_path)"
   ]
  }
 ],
 "metadata": {
  "language_info": {
   "name": "python",
   "pygments_lexer": "ipython3"
  }
 },
 "nbformat": 4,
 "nbformat_minor": 2
}
