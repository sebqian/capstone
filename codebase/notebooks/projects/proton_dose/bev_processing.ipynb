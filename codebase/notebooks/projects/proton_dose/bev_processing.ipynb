{
 "cells": [
  {
   "cell_type": "code",
   "execution_count": null,
   "metadata": {},
   "outputs": [],
   "source": [
    "%load_ext autoreload\n",
    "%autoreload 2\n",
    "\n",
    "import nibabel as nib\n",
    "import SimpleITK as sitk\n",
    "import matplotlib.pyplot as plt\n",
    "\n",
    "import codebase.codebase_settings as cbs\n",
    "from codebase.preprocessor.images import beams_eye_view as bev"
   ]
  },
  {
   "cell_type": "code",
   "execution_count": null,
   "metadata": {},
   "outputs": [],
   "source": [
    "def show_image(img, location):\n",
    "    print(img.GetDirection())\n",
    "    print('size: ' + str(img.GetSize()))\n",
    "    print('spacing: ' + str(img.GetSpacing()))\n",
    "    print('origin: ' + str(img.GetOrigin()))\n",
    "    print('corner 1: ' + str(img.TransformIndexToPhysicalPoint([0, 0, 0])))\n",
    "    orient = sitk.DICOMOrientImageFilter_GetOrientationFromDirectionCosines(img.GetDirection())\n",
    "    print(f'Orientation: {orient}')\n",
    "    nda = sitk.GetArrayFromImage(img)\n",
    "    print(f'Array shape: {nda.shape}')\n",
    "    fig, axes = plt.subplots(1, 3, figsize=(8, 24))\n",
    "    axes[0].imshow(nda[location[0], :, :])\n",
    "    axes[1].imshow(nda[:, location[1], :])\n",
    "    axes[2].imshow(nda[:, :, location[2]])"
   ]
  },
  {
   "cell_type": "code",
   "execution_count": null,
   "metadata": {},
   "outputs": [],
   "source": [
    "_TEST_DATA_FOLDER = cbs.CODEBASE_PATH / 'preprocessor' / 'images' / 'test_data' / 'images'\n",
    "_TEST_IMAGE_FILE = _TEST_DATA_FOLDER / 'MDA-103__CT.nii.gz'"
   ]
  },
  {
   "cell_type": "code",
   "execution_count": null,
   "metadata": {},
   "outputs": [],
   "source": [
    "bev_op = bev.BeamsEyeView()"
   ]
  },
  {
   "cell_type": "code",
   "execution_count": null,
   "metadata": {},
   "outputs": [],
   "source": [
    "test_image = bev_op.read_image(_TEST_IMAGE_FILE)\n",
    "show_image(test_image, location=(150, 200, 150))"
   ]
  },
  {
   "cell_type": "code",
   "execution_count": null,
   "metadata": {},
   "outputs": [],
   "source": [
    "resampled_img = bev_op.resample(test_image, [2, 2, 2])"
   ]
  },
  {
   "cell_type": "code",
   "execution_count": null,
   "metadata": {},
   "outputs": [],
   "source": [
    "show_image(resampled_img, location=(260, 120, 150))"
   ]
  },
  {
   "cell_type": "code",
   "execution_count": null,
   "metadata": {},
   "outputs": [],
   "source": [
    "fake_iso = resampled_img.TransformIndexToPhysicalPoint([100, 150, 250])\n",
    "aligned_img = bev_op.align_isocenter(resampled_img, isocenter=fake_iso)"
   ]
  },
  {
   "cell_type": "code",
   "execution_count": null,
   "metadata": {},
   "outputs": [],
   "source": [
    "show_image(aligned_img, location=(260, 120, 150))"
   ]
  },
  {
   "cell_type": "code",
   "execution_count": null,
   "metadata": {},
   "outputs": [],
   "source": [
    "reorient_img = bev_op.align_patient_position(aligned_img)"
   ]
  },
  {
   "cell_type": "code",
   "execution_count": null,
   "metadata": {},
   "outputs": [],
   "source": [
    "show_image(reorient_img, location=(120, 250, 130))"
   ]
  },
  {
   "cell_type": "code",
   "execution_count": null,
   "metadata": {},
   "outputs": [],
   "source": [
    "couch_kick_img = bev_op.couch_kick(reorient_img, 270)"
   ]
  },
  {
   "cell_type": "code",
   "execution_count": null,
   "metadata": {},
   "outputs": [],
   "source": [
    "show_image(couch_kick_img, location=(140, 210, 130))"
   ]
  },
  {
   "cell_type": "code",
   "execution_count": null,
   "metadata": {},
   "outputs": [],
   "source": [
    "gantry_rotate_img = bev_op.gantry_rotate(couch_kick_img, 40)"
   ]
  },
  {
   "cell_type": "code",
   "execution_count": null,
   "metadata": {},
   "outputs": [],
   "source": [
    "show_image(gantry_rotate_img, location=(140, 210, 130))"
   ]
  }
 ],
 "metadata": {
  "language_info": {
   "name": "python",
   "pygments_lexer": "ipython3"
  }
 },
 "nbformat": 4,
 "nbformat_minor": 2
}
