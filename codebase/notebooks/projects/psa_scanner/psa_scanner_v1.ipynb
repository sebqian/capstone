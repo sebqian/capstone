{
 "cells": [
  {
   "cell_type": "code",
   "execution_count": null,
   "metadata": {},
   "outputs": [],
   "source": [
    "%load_ext autoreload\n",
    "%autoreload 2\n",
    "\n",
    "import numpy as np\n",
    "import pandas as pd\n",
    "\n",
    "import codebase.codebase_settings as cbs\n",
    "from codebase.projects.psa_scanner import raw_data_converter"
   ]
  },
  {
   "cell_type": "code",
   "execution_count": null,
   "metadata": {},
   "outputs": [],
   "source": [
    "# _RAWDATA_FILE = cbs.DATA_PATH / 'psa_scanner' / 'test_sample.csv'\n",
    "# _MAX_FU = 15\n",
    "_RAWDATA_FILE = cbs.DATA_PATH / 'psa_scanner' / 'ProstateRTCohort-DKE.csv'\n",
    "_MAX_FU = 42"
   ]
  },
  {
   "cell_type": "code",
   "execution_count": null,
   "metadata": {},
   "outputs": [],
   "source": [
    "converter = raw_data_converter.RawDataConverter(file_path=_RAWDATA_FILE, max_fu=_MAX_FU, sequence_length=3, time_unit='w')"
   ]
  },
  {
   "cell_type": "code",
   "execution_count": null,
   "metadata": {},
   "outputs": [],
   "source": [
    "converter.preprocessing()"
   ]
  },
  {
   "cell_type": "code",
   "execution_count": null,
   "metadata": {},
   "outputs": [],
   "source": [
    "converter.data"
   ]
  },
  {
   "cell_type": "code",
   "execution_count": null,
   "metadata": {},
   "outputs": [],
   "source": [
    "converter.train_test_split()"
   ]
  },
  {
   "cell_type": "code",
   "execution_count": null,
   "metadata": {},
   "outputs": [],
   "source": [
    "import pandas as pd\n",
    "data = {'Name': ['Ankit', 'Amit',\n",
    "                 'Aishwarya', 'Priyanka'],\n",
    "        'Age': [21, 19, 20, 18],\n",
    "        'Stream': ['Math', 'Commerce',\n",
    "                   'Arts', 'Biology'],\n",
    "        'Percentage': [88, 92, 95, 70]}\n",
    "df = pd.DataFrame(data, columns=['Name', 'Age',\n",
    "                                 'Stream', \n",
    "                                 'Percentage'])"
   ]
  },
  {
   "cell_type": "code",
   "execution_count": null,
   "metadata": {},
   "outputs": [],
   "source": [
    "df.loc[1, 'Name']"
   ]
  },
  {
   "cell_type": "code",
   "execution_count": null,
   "metadata": {},
   "outputs": [],
   "source": [
    "[i for i in range(1, 5, 1)]"
   ]
  },
  {
   "cell_type": "code",
   "execution_count": null,
   "metadata": {},
   "outputs": [],
   "source": [
    "df = pd.DataFrame({'name': ['John', 'Alice', 'Bob'],\n",
    "                   'stage': [1, 2, 3],\n",
    "                   'PSADate1': ['2023-01-01', '2023-02-01', '2023-03-01'],\n",
    "                   'PSA1': [0.1, 0.2, 0.3],\n",
    "                   'PSADate2': ['2023-02-01', '2023-03-01', '2023-01-01'],\n",
    "                   'PSA2': [0.2, 0.3, 0.4],\n",
    "                   'PSADate3': ['2023-03-01', '2023-04-01', '2023-05-01'],\n",
    "                   'PSA3': [0.3, 0.4, 0.5],\n",
    "                   'PSADate4': ['2023-04-01', '2023-05-01', '2023-03-01'],\n",
    "                   'PSA4': [0.4, 0.5, 0.6],\n",
    "                   })"
   ]
  },
  {
   "cell_type": "code",
   "execution_count": null,
   "metadata": {},
   "outputs": [],
   "source": [
    "for _, row in df.iterrows():\n",
    "    print(row[['name', 'stage']])\n"
   ]
  },
  {
   "cell_type": "code",
   "execution_count": null,
   "metadata": {},
   "outputs": [],
   "source": [
    "pd.to_datetime(row['PSA3'])"
   ]
  },
  {
   "cell_type": "code",
   "execution_count": null,
   "metadata": {},
   "outputs": [],
   "source": [
    "row[['PSADate1']] = row[['PSADate1']].apply(pd.to_datetime)\n",
    "row[['PSADate2']] = row[['PSADate2']].apply(pd.to_datetime)"
   ]
  },
  {
   "cell_type": "code",
   "execution_count": null,
   "metadata": {},
   "outputs": [],
   "source": [
    "time_diff = row['PSADate2'] - row['PSADate1']\n",
    "row['PSADate2']"
   ]
  },
  {
   "cell_type": "code",
   "execution_count": null,
   "metadata": {},
   "outputs": [],
   "source": [
    "[x for x in range(1, 5, 1)]"
   ]
  },
  {
   "cell_type": "code",
   "execution_count": null,
   "metadata": {},
   "outputs": [],
   "source": []
  }
 ],
 "metadata": {
  "language_info": {
   "name": "python",
   "pygments_lexer": "ipython3"
  }
 },
 "nbformat": 4,
 "nbformat_minor": 2
}
