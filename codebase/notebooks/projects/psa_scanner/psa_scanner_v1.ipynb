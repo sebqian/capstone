{
 "cells": [
  {
   "cell_type": "code",
   "execution_count": null,
   "metadata": {},
   "outputs": [],
   "source": [
    "%load_ext autoreload\n",
    "%autoreload 2\n",
    "\n",
    "import codebase_settings as cbs\n",
    "from psa_scanner import data_loader "
   ]
  },
  {
   "cell_type": "code",
   "execution_count": null,
   "metadata": {},
   "outputs": [],
   "source": [
    "_RAWDATA_FILE = cbs.DATA_PATH / 'psa_scanner' / 'ProstateRTCohort_updated.xlsx'"
   ]
  },
  {
   "cell_type": "code",
   "execution_count": null,
   "metadata": {},
   "outputs": [],
   "source": [
    "psa_dataloader = data_loader.PSAScannerDataLoader(_RAWDATA_FILE)\n",
    "psa_dataloader.data_preprocessing()"
   ]
  },
  {
   "cell_type": "code",
   "execution_count": null,
   "metadata": {},
   "outputs": [],
   "source": [
    "psa_dataloader.preprocessor.data.loc[1406, ['AnonymizedID', 'rtstartdate', 'date_after_rt_t0', 'psa_t0', \n",
    "                                            'time_after_rt_t1', 'psa_t1', 'psa_t1_timediff', 'psa_t1_delta', 'psa_t1_gradient',\n",
    "                                            'time_after_rt_t2', 'psa_t2']]\n",
    "# psa_dataloader.preprocessor.data.columns"
   ]
  },
  {
   "cell_type": "code",
   "execution_count": null,
   "metadata": {},
   "outputs": [],
   "source": [
    "import pandas as pd\n",
    "data = {'Name': ['Ankit', 'Amit',\n",
    "                 'Aishwarya', 'Priyanka'],\n",
    "        'Age': [21, 19, 20, 18],\n",
    "        'Stream': ['Math', 'Commerce',\n",
    "                   'Arts', 'Biology'],\n",
    "        'Percentage': [88, 92, 95, 70]}\n",
    "df = pd.DataFrame(data, columns=['Name', 'Age',\n",
    "                                 'Stream', \n",
    "                                 'Percentage'])"
   ]
  },
  {
   "cell_type": "code",
   "execution_count": null,
   "metadata": {},
   "outputs": [],
   "source": [
    "df.loc[1, 'Name']"
   ]
  },
  {
   "cell_type": "code",
   "execution_count": null,
   "metadata": {},
   "outputs": [],
   "source": []
  }
 ],
 "metadata": {
  "language_info": {
   "name": "python",
   "pygments_lexer": "ipython3"
  }
 },
 "nbformat": 4,
 "nbformat_minor": 2
}
