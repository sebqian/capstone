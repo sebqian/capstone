{
 "cells": [
  {
   "cell_type": "code",
   "execution_count": null,
   "metadata": {},
   "outputs": [],
   "source": [
    "import torch\n",
    "import numpy as np\n",
    "import plotly.express as px\n",
    "import matplotlib.pyplot as plt\n",
    "from etils import epath\n",
    "from custom_metrics import monai_metrics, segmentation_metrics\n",
    "\n",
    "import codebase.codebase_settings as cbs\n",
    "from codebase.projects.hecktor2022 import evaluation\n",
    "\n",
    "%load_ext autoreload\n",
    "%autoreload 2"
   ]
  },
  {
   "cell_type": "code",
   "execution_count": null,
   "metadata": {},
   "outputs": [],
   "source": [
    "device = torch.device('cuda' if torch.cuda.is_available() else 'cpu')\n",
    "print('Device:', device)"
   ]
  },
  {
   "attachments": {},
   "cell_type": "markdown",
   "metadata": {},
   "source": [
    "<h3> Single class output </h3>"
   ]
  },
  {
   "cell_type": "code",
   "execution_count": null,
   "metadata": {},
   "outputs": [],
   "source": [
    "_METRICS_CONFIG = {'name': 'dice', 'include_background': False, 'reduction': 'none',\n",
    "                   'get_not_nans': True, 'num_classes': 2}\n",
    "metrics = monai_metrics.get_segmentation_metrics(_METRICS_CONFIG)"
   ]
  },
  {
   "cell_type": "code",
   "execution_count": null,
   "metadata": {},
   "outputs": [],
   "source": [
    "def prepare_subvolume_batch(batch):\n",
    "    \"\"\"Create features and label for each batch.\"\"\"\n",
    "    features = batch['input'].to(device)\n",
    "    mask = torch.sum(batch['label'][:, 1:3, ...], dim=1)\n",
    "    mask = mask[:, None, ...].to(device)\n",
    "    return features, mask"
   ]
  },
  {
   "cell_type": "code",
   "execution_count": null,
   "metadata": {},
   "outputs": [],
   "source": [
    "checkpoint_path = '/workspace/ro_codebase/preprocessor/images/test_data/processed_128x128/subvolume_32/experiments/hecktor_test/best_model.pth'\n",
    "# checkpoint_path = '/workspace/data/hecktor2022/processed_128x128/subvolume_32/set1/experiments/hecktor_exp061323/generalized_focal_dice_best_model.pth'\n",
    "checkpoint_path = '/workspace/data/hecktor2022/processed_128x128/subvolume_32/set1/experiments/hecktor_exp061323/gfd_1class_best_model.pth'\n",
    "checkpoint = torch.load(checkpoint_path)\n",
    "model = checkpoint['model']\n",
    "# trainer.model.load_state_dict(checkpoint['model_state_dict'])\n",
    "# trainer.optimizer.load_state_dict(checkpoint['optimizer_state_dict'])\n",
    "best_loss = checkpoint['best_loss']\n",
    "print(best_loss)"
   ]
  },
  {
   "cell_type": "code",
   "execution_count": null,
   "metadata": {},
   "outputs": [],
   "source": [
    "data_folder = cbs.CODEBASE_PATH / 'preprocessor' / 'images' / 'test_data'\n",
    "# image = torch.Tensor(np.load(str(data_folder / 'processed_128x128/subvolume_32/train/images/CHUM-024_38__input.npy')))\n",
    "# label = torch.Tensor(np.load(str(data_folder / 'processed_128x128/subvolume_32/train/labels/CHUM-024_38__label.npy')))\n",
    "# image = torch.Tensor(np.load(str(data_folder / 'processed_128x128/subvolume_32/train/images/CHUM-024_25__input.npy')))\n",
    "# label = torch.Tensor(np.load(str(data_folder / 'processed_128x128/subvolume_32/train/labels/CHUM-024_25__label.npy')))\n",
    "image = torch.Tensor(np.load('/workspace/data/hecktor2022/processed_128x128/subvolume_32/valid/images/CHUV-008_239__input.npy'))\n",
    "label = torch.Tensor(np.load('/workspace/data/hecktor2022/processed_128x128/subvolume_32/valid/labels/CHUV-008_239__label.npy'))\n",
    "batch = {'input': image[None, ...], 'label': label[None, ...]}\n",
    "features, targets = prepare_subvolume_batch(batch)"
   ]
  },
  {
   "cell_type": "code",
   "execution_count": null,
   "metadata": {},
   "outputs": [],
   "source": [
    "# prediction = model(image[None].to(device))\n",
    "print(features.shape, targets.shape)\n",
    "prediction = model(features)\n",
    "prediction = torch.sigmoid(prediction)\n",
    "prediction = (prediction > 0.5).int()\n",
    "print(prediction.shape)"
   ]
  },
  {
   "cell_type": "code",
   "execution_count": null,
   "metadata": {},
   "outputs": [],
   "source": [
    "dice_value = metrics([prediction], [targets])\n",
    "dice_value"
   ]
  },
  {
   "cell_type": "code",
   "execution_count": null,
   "metadata": {},
   "outputs": [],
   "source": [
    "prediction = prediction[0].detach().cpu().numpy()\n",
    "targets = targets[0].cpu().numpy()\n",
    "inputs = features[0].cpu().numpy()\n",
    "ct = inputs[0, ...]\n",
    "pet = inputs[1, ...]\n",
    "# prediction = image.numpy()\n",
    "prediction.shape"
   ]
  },
  {
   "cell_type": "code",
   "execution_count": null,
   "metadata": {},
   "outputs": [],
   "source": [
    "# all_imgs = [label.data[0, :, :, :].numpy(), label.data[1, :, :, :].numpy(), label.data[2, :, :, :].numpy(),]\n",
    "# all_imgs = np.swapaxes(prediction, 1, 3)\n",
    "all_imgs = np.array([np.swapaxes(pet, 0, 2), np.swapaxes(prediction[0], 0, 2), np.swapaxes(targets[0], 0, 2)])\n",
    "px.imshow(\n",
    "    all_imgs,\n",
    "    # zmin=[0, 0, 0],\n",
    "    # zmax=[2000, 2000, 2000],\n",
    "    animation_frame=1,\n",
    "    # binary_string=gray_scale,\n",
    "    labels={'animation_frame': 'slice'},\n",
    "    facet_col=0,\n",
    "    color_continuous_scale='Gray',\n",
    "    width=500*3, height=500\n",
    ")"
   ]
  },
  {
   "attachments": {},
   "cell_type": "markdown",
   "metadata": {},
   "source": [
    "<h2> Cohort Evaluation </h2>"
   ]
  },
  {
   "cell_type": "code",
   "execution_count": null,
   "metadata": {},
   "outputs": [],
   "source": [
    "checkpoint_path = '/workspace/ro_codebase/preprocessor/images/test_data/processed_128x128/subvolume_32/experiments/hecktor_test/best_model.pth'\n",
    "# checkpoint_path = '/workspace/data/hecktor2022/processed_128x128/subvolume_32/set1/experiments/hecktor_exp061323/generalized_focal_dice_best_model.pth'\n",
    "checkpoint_path = '/workspace/data/hecktor2022/processed_128x128/subvolume_32/set1/experiments/hecktor_exp061323/gfd_1class_best_model.pth'\n",
    "\n",
    "data_path = cbs.CODEBASE_PATH / 'preprocessor' / 'images' / 'test_data' / 'processed_128x128' / 'subvolume_32' / 'train'\n",
    "data_path = cbs.DATA_PATH / 'hecktor2022' / 'processed_128x128' / 'subvolume_32' / 'valid'"
   ]
  },
  {
   "cell_type": "code",
   "execution_count": null,
   "metadata": {},
   "outputs": [],
   "source": [
    "evaluator = evaluation.EvaluationModule(epath.Path(checkpoint_path), epath.Path(data_path))"
   ]
  },
  {
   "cell_type": "code",
   "execution_count": null,
   "metadata": {},
   "outputs": [],
   "source": [
    "results = evaluator.evaluate_cohort()"
   ]
  },
  {
   "cell_type": "code",
   "execution_count": null,
   "metadata": {},
   "outputs": [],
   "source": [
    "cohort1 = results"
   ]
  },
  {
   "cell_type": "code",
   "execution_count": null,
   "metadata": {},
   "outputs": [],
   "source": [
    "cohort2 = results"
   ]
  },
  {
   "cell_type": "code",
   "execution_count": null,
   "metadata": {},
   "outputs": [],
   "source": [
    "cohort_both = np.concatenate((cohort1, cohort2))"
   ]
  },
  {
   "cell_type": "code",
   "execution_count": null,
   "metadata": {},
   "outputs": [],
   "source": [
    "plt.hist(cohort_both, bins=100)"
   ]
  },
  {
   "cell_type": "code",
   "execution_count": null,
   "metadata": {},
   "outputs": [],
   "source": [
    "print(len(cohort_both))\n",
    "print(np.nanmean(cohort_both))"
   ]
  },
  {
   "cell_type": "code",
   "execution_count": null,
   "metadata": {},
   "outputs": [],
   "source": [
    "np.mean(np.nan_to_num(cohort_both, nan=1))"
   ]
  }
 ],
 "metadata": {
  "language_info": {
   "name": "python",
   "pygments_lexer": "ipython3"
  }
 },
 "nbformat": 4,
 "nbformat_minor": 2
}
