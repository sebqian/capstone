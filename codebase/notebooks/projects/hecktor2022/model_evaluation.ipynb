{
 "cells": [
  {
   "cell_type": "code",
   "execution_count": null,
   "metadata": {},
   "outputs": [],
   "source": [
    "import torch\n",
    "import numpy as np\n",
    "import plotly.express as px\n",
    "import matplotlib.pyplot as plt\n",
    "from etils import epath\n",
    "\n",
    "from codebase.custom_metrics import monai_metrics\n",
    "import codebase.codebase_settings as cbs\n",
    "from codebase import terminology as term\n",
    "from codebase.projects.hecktor2022.evaluation import subvolume_evaluation\n",
    "from codebase.projects.hecktor2022.evaluation import image_evaluation\n",
    "\n",
    "%load_ext autoreload\n",
    "%autoreload 2"
   ]
  },
  {
   "attachments": {},
   "cell_type": "markdown",
   "metadata": {},
   "source": [
    "<h3> Common Settings </h3>"
   ]
  },
  {
   "cell_type": "code",
   "execution_count": null,
   "metadata": {},
   "outputs": [],
   "source": [
    "device = torch.device('cuda' if torch.cuda.is_available() else 'cpu')\n",
    "print('Device:', device)"
   ]
  },
  {
   "cell_type": "code",
   "execution_count": null,
   "metadata": {},
   "outputs": [],
   "source": [
    "def comparison_plot(input_data: torch.Tensor, label_data: torch.Tensor,\n",
    "                    prediction: torch.Tensor, channel: int, nslice: int):\n",
    "    vmin = 0\n",
    "    vmax = 2\n",
    "    fig, axes = plt.subplots(1, 4, num=1,clear=True, figsize=(12, 3))\n",
    "    axes[0].imshow(input_data[0, 0, ..., nslice].cpu().numpy())\n",
    "    title1 = axes[0].secondary_xaxis('bottom')\n",
    "    title1 = axes[0].set_title('CT', pad=10, fontsize=12, ha='center')  # Set the title and adjust the spacing\n",
    "    axes[1].imshow(input_data[0, 1, ..., nslice].cpu().numpy())\n",
    "    title2 = axes[1].set_title('PET', pad=10, verticalalignment='bottom')\n",
    "    axes[2].imshow(label_data[0, channel, ..., nslice].cpu().numpy(), cmap='viridis', vmin=vmin, vmax=vmax)\n",
    "    title3 = axes[2].set_title(f'Label-ch{channel}', pad=10, verticalalignment='bottom')\n",
    "    axes[3].imshow(prediction[0, channel, ..., nslice].cpu().numpy(), cmap='viridis', vmin=vmin, vmax=vmax)\n",
    "    title4 = axes[3].set_title(f'Prediction-ch{channel}', pad=10, verticalalignment='bottom')\n",
    "    plt.tight_layout()\n",
    "    plt.show()"
   ]
  },
  {
   "cell_type": "code",
   "execution_count": null,
   "metadata": {},
   "outputs": [],
   "source": [
    "# checkpoint_path = '/workspace/codebase/preprocessor/images/test_data/processed_256x256/subvolume_32/experiments/hecktor_test/version_1/checkpoints/checkpoint-epoch=79-val_loss=0.93.ckpt'\n",
    "checkpoint_path = '/workspace/data/hecktor2022/processed_256x256/subvolume_32/experiments/hecktor_exp070923_segresnet/version_1/checkpoints/checkpoint-epoch=79-val_loss=0.59.ckpt'\n",
    "# checkpoint_path = '/workspace/data/hecktor2022/processed_256x256/subvolume_32/experiments/hecktor_exp070423_segresent/version_1/checkpoints/checkpoint-epoch=63-val_loss=0.12.ckpt'\n",
    "# checkpoint_path = '/workspace/data/hecktor2022/processed_256x256/subvolume_32/experiments/hecktor_exp062324_segresent/version_1/checkpoints/checkpoint-epoch=31-val_loss=0.13.ckpt'\n",
    "# checkpoint_path = '/workspace/data/hecktor2022/processed_128x128/subvolume_32/set1/experiments/hecktor_exp061323/gfd_1class_best_model.pth'\n",
    "# config_file = cbs.CODEBASE_PATH / 'projects' / 'hecktor2022' / 'experiments' / 'test_config.yml'\n",
    "config_file = cbs.CODEBASE_PATH / 'projects' / 'hecktor2022' / 'experiments' / 'experiment_config.yml'"
   ]
  },
  {
   "attachments": {},
   "cell_type": "markdown",
   "metadata": {},
   "source": [
    "<h3> Subvolume test </h3>"
   ]
  },
  {
   "cell_type": "code",
   "execution_count": null,
   "metadata": {},
   "outputs": [],
   "source": [
    "sve_module = subvolume_evaluation.SubVolumeEvaluationModule(\n",
    "    checkpoint_path=epath.Path(checkpoint_path),\n",
    "    exp_config=config_file,\n",
    "    phase=term.Phase.TEST\n",
    ")"
   ]
  },
  {
   "cell_type": "code",
   "execution_count": null,
   "metadata": {},
   "outputs": [],
   "source": [
    "# subvolume_id = 'MDA-103_34'\n",
    "subvolume_id = 'MDA-195_74'\n",
    "images, prediction, label, dice = sve_module.evaluate_an_example(subvolume_id)"
   ]
  },
  {
   "cell_type": "code",
   "execution_count": null,
   "metadata": {},
   "outputs": [],
   "source": [
    "sve_module.comparison_plot(images, label, prediction, channel=0, nslice=2)"
   ]
  },
  {
   "cell_type": "code",
   "execution_count": null,
   "metadata": {},
   "outputs": [],
   "source": [
    "sve_module.comparison_plot(images, label, prediction, channel=2, nslice=2)"
   ]
  },
  {
   "cell_type": "code",
   "execution_count": null,
   "metadata": {},
   "outputs": [],
   "source": [
    "sve_module.comparison_plot(images, label, prediction, channel=2, nslice=28)"
   ]
  },
  {
   "cell_type": "code",
   "execution_count": null,
   "metadata": {},
   "outputs": [],
   "source": [
    "all_dices = sve_module.run_cohort_test()"
   ]
  },
  {
   "cell_type": "code",
   "execution_count": null,
   "metadata": {},
   "outputs": [],
   "source": [
    "_ = plt.hist(all_dices[:, 0], bins=100)"
   ]
  },
  {
   "attachments": {},
   "cell_type": "markdown",
   "metadata": {},
   "source": [
    "<h3> Whole image test </h3>"
   ]
  },
  {
   "cell_type": "code",
   "execution_count": null,
   "metadata": {},
   "outputs": [],
   "source": [
    "data_path = '/workspace/codebase/preprocessor/images/test_data'"
   ]
  },
  {
   "cell_type": "code",
   "execution_count": null,
   "metadata": {},
   "outputs": [],
   "source": [
    "ie_module = image_evaluation.ImageEvaluationModule(\n",
    "    checkpoint_path=epath.Path(checkpoint_path),\n",
    "    exp_config=config_file,\n",
    "    data_path=epath.Path(data_path),\n",
    "    phase=term.Phase.TEST,\n",
    "    subvolume_size=(256, 256, 32),\n",
    "    modalities=[term.Modality.CT, term.Modality.PET],\n",
    "    reference_modality=term.Modality.CT,\n",
    "    key_word='CT.nii.gz'\n",
    ")"
   ]
  },
  {
   "cell_type": "code",
   "execution_count": null,
   "metadata": {},
   "outputs": [],
   "source": [
    "ie_module.cohort_predict(['CHUM-024'])"
   ]
  },
  {
   "cell_type": "code",
   "execution_count": null,
   "metadata": {},
   "outputs": [],
   "source": [
    "subject = ie_module.get_prediction_label_pair(id='CHUM-024')\n",
    "print(subject['LABEL'].shape)"
   ]
  },
  {
   "cell_type": "code",
   "execution_count": null,
   "metadata": {},
   "outputs": [],
   "source": [
    "subject"
   ]
  },
  {
   "cell_type": "code",
   "execution_count": null,
   "metadata": {},
   "outputs": [],
   "source": [
    "ie_module.comparison_plot(subject, nslice=136)"
   ]
  },
  {
   "cell_type": "code",
   "execution_count": null,
   "metadata": {},
   "outputs": [],
   "source": [
    "ie_module.calculate_dice(ids=['CHUM-024'])"
   ]
  },
  {
   "cell_type": "code",
   "execution_count": null,
   "metadata": {},
   "outputs": [],
   "source": [
    "data_folder = cbs.CODEBASE_PATH / 'preprocessor' / 'images' / 'test_data'\n",
    "# image = torch.Tensor(np.load(str(data_folder / 'processed_128x128/subvolume_32/train/images/CHUM-024_38__input.npy')))\n",
    "# label = torch.Tensor(np.load(str(data_folder / 'processed_128x128/subvolume_32/train/labels/CHUM-024_38__label.npy')))\n",
    "# image = torch.Tensor(np.load(str(data_folder / 'processed_128x128/subvolume_32/train/images/CHUM-024_25__input.npy')))\n",
    "# label = torch.Tensor(np.load(str(data_folder / 'processed_128x128/subvolume_32/train/labels/CHUM-024_25__label.npy')))\n",
    "image = torch.Tensor(np.load('/workspace/data/hecktor2022/processed_128x128/subvolume_32/valid/images/CHUV-008_239__input.npy'))\n",
    "label = torch.Tensor(np.load('/workspace/data/hecktor2022/processed_128x128/subvolume_32/valid/labels/CHUV-008_239__label.npy'))\n",
    "batch = {'input': image[None, ...], 'label': label[None, ...]}\n",
    "features, targets = prepare_subvolume_batch(batch)"
   ]
  },
  {
   "cell_type": "code",
   "execution_count": null,
   "metadata": {},
   "outputs": [],
   "source": [
    "# prediction = model(image[None].to(device))\n",
    "print(features.shape, targets.shape)\n",
    "prediction = model(features)\n",
    "prediction = torch.sigmoid(prediction)\n",
    "prediction = (prediction > 0.5).int()\n",
    "print(prediction.shape)"
   ]
  },
  {
   "cell_type": "code",
   "execution_count": null,
   "metadata": {},
   "outputs": [],
   "source": [
    "dice_value = metrics([prediction], [targets])\n",
    "dice_value"
   ]
  },
  {
   "cell_type": "code",
   "execution_count": null,
   "metadata": {},
   "outputs": [],
   "source": [
    "prediction = prediction[0].detach().cpu().numpy()\n",
    "targets = targets[0].cpu().numpy()\n",
    "inputs = features[0].cpu().numpy()\n",
    "ct = inputs[0, ...]\n",
    "pet = inputs[1, ...]\n",
    "# prediction = image.numpy()\n",
    "prediction.shape"
   ]
  },
  {
   "cell_type": "code",
   "execution_count": null,
   "metadata": {},
   "outputs": [],
   "source": [
    "# all_imgs = [label.data[0, :, :, :].numpy(), label.data[1, :, :, :].numpy(), label.data[2, :, :, :].numpy(),]\n",
    "# all_imgs = np.swapaxes(prediction, 1, 3)\n",
    "all_imgs = np.array([np.swapaxes(pet, 0, 2), np.swapaxes(prediction[0], 0, 2), np.swapaxes(targets[0], 0, 2)])\n",
    "px.imshow(\n",
    "    all_imgs,\n",
    "    # zmin=[0, 0, 0],\n",
    "    # zmax=[2000, 2000, 2000],\n",
    "    animation_frame=1,\n",
    "    # binary_string=gray_scale,\n",
    "    labels={'animation_frame': 'slice'},\n",
    "    facet_col=0,\n",
    "    color_continuous_scale='Gray',\n",
    "    width=500*3, height=500\n",
    ")"
   ]
  },
  {
   "attachments": {},
   "cell_type": "markdown",
   "metadata": {},
   "source": [
    "<h2> Cohort Evaluation </h2>"
   ]
  },
  {
   "cell_type": "code",
   "execution_count": null,
   "metadata": {},
   "outputs": [],
   "source": [
    "# checkpoint_path = '/workspace/codebase/preprocessor/images/test_data/processed_256x256/subvolume_32/experiments/hecktor_test/version_1/checkpoints/checkpoint-epoch=03-val_loss=0.21.ckpt'\n",
    "# checkpoint_path = '/workspace/data/hecktor2022/processed_128x128/subvolume_32/set1/experiments/hecktor_exp061323/generalized_focal_dice_best_model.pth'\n",
    "# checkpoint_path = '/workspace/data/hecktor2022/processed_128x128/subvolume_32/set1/experiments/hecktor_exp061323/gfd_1class_best_model.pth'\n",
    "checkpoint_path = '/workspace/data/hecktor2022/processed_256x256/subvolume_32/experiments/hecktor_exp070423_segresent/version_1/checkpoints/checkpoint-epoch=63-val_loss=0.12.ckpt'\n",
    "data_path = cbs.CODEBASE_PATH / 'preprocessor' / 'images' / 'test_data'\n",
    "# data_path = cbs.DATA_PATH / 'hecktor2022' / 'processed_128x128' / 'subvolume_32' / 'valid'"
   ]
  },
  {
   "cell_type": "code",
   "execution_count": null,
   "metadata": {},
   "outputs": [],
   "source": [
    "ie_module = image_evaluation.ImageEvaluationModule(\n",
    "    checkpoint_path=epath.Path(checkpoint_path),\n",
    "    exp_config=config_file,\n",
    "    data_path=epath.Path(data_path),\n",
    "    phase=term.Phase.TEST,\n",
    "    subvolume_size=(256, 256, 32),\n",
    "    modalities=[term.Modality.CT, term.Modality.PET],\n",
    "    reference_modality=term.Modality.CT,\n",
    "    key_word='CT.nii.gz'\n",
    ")"
   ]
  },
  {
   "cell_type": "code",
   "execution_count": null,
   "metadata": {},
   "outputs": [],
   "source": [
    "ie_module.cohort_predict()"
   ]
  },
  {
   "cell_type": "code",
   "execution_count": null,
   "metadata": {},
   "outputs": [],
   "source": [
    "id = 'CHUM-024'\n",
    "results = ie_module.calculate_dice([id])"
   ]
  },
  {
   "cell_type": "code",
   "execution_count": null,
   "metadata": {},
   "outputs": [],
   "source": [
    "subject = ie_module.get_prediction_label_pair(id)\n"
   ]
  },
  {
   "cell_type": "code",
   "execution_count": null,
   "metadata": {},
   "outputs": [],
   "source": [
    "np.min(prediction)"
   ]
  },
  {
   "cell_type": "code",
   "execution_count": null,
   "metadata": {},
   "outputs": [],
   "source": [
    "from monai.networks.utils import one_hot\n",
    "import torch.nn.functional as F"
   ]
  },
  {
   "cell_type": "code",
   "execution_count": null,
   "metadata": {},
   "outputs": [],
   "source": [
    "input_tensor = torch.randn(1, 3, 2, 2)\n",
    "\n",
    "probabilites = F.softmax(input_tensor, dim=1)\n",
    "max_indices = torch.argmax(probabilites, dim=1)\n",
    "second_tensor = max_indices[:, None, ...]\n",
    "# Create a one-hot label tensor using torch.eye\n",
    "num_classes = input_tensor.shape[1]\n",
    "one_hot_labels = one_hot(second_tensor, num_classes)\n"
   ]
  },
  {
   "cell_type": "code",
   "execution_count": null,
   "metadata": {},
   "outputs": [],
   "source": [
    "input_tensor"
   ]
  },
  {
   "cell_type": "code",
   "execution_count": null,
   "metadata": {},
   "outputs": [],
   "source": [
    "probabilites"
   ]
  },
  {
   "cell_type": "code",
   "execution_count": null,
   "metadata": {},
   "outputs": [],
   "source": [
    "second_tensor.shape"
   ]
  },
  {
   "cell_type": "code",
   "execution_count": null,
   "metadata": {},
   "outputs": [],
   "source": [
    "one_hot_labels.shape"
   ]
  },
  {
   "cell_type": "code",
   "execution_count": null,
   "metadata": {},
   "outputs": [],
   "source": []
  }
 ],
 "metadata": {
  "language_info": {
   "name": "python",
   "pygments_lexer": "ipython3"
  }
 },
 "nbformat": 4,
 "nbformat_minor": 2
}
