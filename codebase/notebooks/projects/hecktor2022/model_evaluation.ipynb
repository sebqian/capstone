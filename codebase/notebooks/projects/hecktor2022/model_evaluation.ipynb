{
 "cells": [
  {
   "cell_type": "code",
   "execution_count": null,
   "metadata": {},
   "outputs": [],
   "source": [
    "import torch\n",
    "import numpy as np\n",
    "import plotly.express as px\n",
    "import matplotlib.pyplot as plt\n",
    "from etils import epath\n",
    "\n",
    "from codebase.custom_metrics import monai_metrics\n",
    "import codebase.codebase_settings as cbs\n",
    "from codebase import terminology as term\n",
    "from codebase.projects.hecktor2022.evaluation import subvolume_evaluation\n",
    "from codebase.projects.hecktor2022.evaluation import image_evaluation\n",
    "\n",
    "%load_ext autoreload\n",
    "%autoreload 2"
   ]
  },
  {
   "attachments": {},
   "cell_type": "markdown",
   "metadata": {},
   "source": [
    "<h3> Common Settings </h3>"
   ]
  },
  {
   "cell_type": "code",
   "execution_count": null,
   "metadata": {},
   "outputs": [],
   "source": [
    "device = torch.device('cuda' if torch.cuda.is_available() else 'cpu')\n",
    "print('Device:', device)"
   ]
  },
  {
   "cell_type": "code",
   "execution_count": null,
   "metadata": {},
   "outputs": [],
   "source": [
    "def comparison_plot(input_data: torch.Tensor, label_data: torch.Tensor,\n",
    "                    prediction: torch.Tensor, channel: int, nslice: int):\n",
    "    vmin = 0\n",
    "    vmax = 2\n",
    "    fig, axes = plt.subplots(1, 4, num=1,clear=True, figsize=(12, 3))\n",
    "    axes[0].imshow(input_data[0, 0, ..., nslice].cpu().numpy())\n",
    "    title1 = axes[0].secondary_xaxis('bottom')\n",
    "    title1 = axes[0].set_title('CT', pad=10, fontsize=12, ha='center')  # Set the title and adjust the spacing\n",
    "    axes[1].imshow(input_data[0, 1, ..., nslice].cpu().numpy())\n",
    "    title2 = axes[1].set_title('PET', pad=10, verticalalignment='bottom')\n",
    "    axes[2].imshow(label_data[0, channel, ..., nslice].cpu().numpy(), cmap='viridis', vmin=vmin, vmax=vmax)\n",
    "    title3 = axes[2].set_title(f'Label-ch{channel}', pad=10, verticalalignment='bottom')\n",
    "    axes[3].imshow(prediction[0, channel, ..., nslice].cpu().numpy(), cmap='viridis', vmin=vmin, vmax=vmax)\n",
    "    title4 = axes[3].set_title(f'Prediction-ch{channel}', pad=10, verticalalignment='bottom')\n",
    "    plt.tight_layout()\n",
    "    plt.show()"
   ]
  },
  {
   "cell_type": "code",
   "execution_count": null,
   "metadata": {},
   "outputs": [],
   "source": [
    "# checkpoint_path = '/workspace/codebase/preprocessor/images/test_data/processed_256x256/subvolume_32/experiments/hecktor_test/version_1/checkpoints/checkpoint-epoch=79-val_loss=0.93.ckpt'\n",
    "# checkpoint_path = '/workspace/data/hecktor2022/processed_256x256/subvolume_32/experiments/hecktor_exp070923_segresnet/version_1/checkpoints/checkpoint-epoch=79-val_loss=0.59.ckpt'\n",
    "checkpoint_path = '/workspace/data/hecktor2022/processed_256x256/subvolume_32/experiments/hecktor_exp071823_segresnet/version_1/checkpoints/checkpoint-epoch=25-val_loss=0.28.ckpt'\n",
    "# checkpoint_path = '/workspace/data/hecktor2022/processed_256x256/subvolume_32/experiments/hecktor_exp070423_segresent/version_1/checkpoints/checkpoint-epoch=63-val_loss=0.12.ckpt'\n",
    "# checkpoint_path = '/workspace/data/hecktor2022/processed_256x256/subvolume_32/experiments/hecktor_exp062324_segresent/version_1/checkpoints/checkpoint-epoch=31-val_loss=0.13.ckpt'\n",
    "# checkpoint_path = '/workspace/data/hecktor2022/processed_128x128/subvolume_32/set1/experiments/hecktor_exp061323/gfd_1class_best_model.pth'\n",
    "# config_file = cbs.CODEBASE_PATH / 'projects' / 'hecktor2022' / 'experiments' / 'test_config.yml'\n",
    "config_file = cbs.CODEBASE_PATH / 'projects' / 'hecktor2022' / 'experiments' / 'experiment_config.yml'"
   ]
  },
  {
   "attachments": {},
   "cell_type": "markdown",
   "metadata": {},
   "source": [
    "<h3> Subvolume test </h3>"
   ]
  },
  {
   "cell_type": "code",
   "execution_count": null,
   "metadata": {},
   "outputs": [],
   "source": [
    "sve_module = subvolume_evaluation.SubVolumeEvaluationModule(\n",
    "    checkpoint_path=epath.Path(checkpoint_path),\n",
    "    exp_config=config_file,\n",
    "    phase=term.Phase.TEST\n",
    ")"
   ]
  },
  {
   "cell_type": "code",
   "execution_count": null,
   "metadata": {},
   "outputs": [],
   "source": [
    "# subvolume_id = 'MDA-103_34'\n",
    "subvolume_id = 'MDA-195_74'\n",
    "images, prediction, label, dice = sve_module.evaluate_an_example(subvolume_id)"
   ]
  },
  {
   "cell_type": "code",
   "execution_count": null,
   "metadata": {},
   "outputs": [],
   "source": [
    "sve_module.comparison_plot(images, label, prediction, channel=0, nslice=0)"
   ]
  },
  {
   "cell_type": "code",
   "execution_count": null,
   "metadata": {},
   "outputs": [],
   "source": [
    "sve_module.comparison_plot(images, label, prediction, channel=1, nslice=0)"
   ]
  },
  {
   "cell_type": "code",
   "execution_count": null,
   "metadata": {},
   "outputs": [],
   "source": [
    "sve_module.comparison_plot(images, label, prediction, channel=2, nslice=5)"
   ]
  },
  {
   "cell_type": "code",
   "execution_count": null,
   "metadata": {},
   "outputs": [],
   "source": [
    "all_dices = sve_module.run_cohort_test()"
   ]
  },
  {
   "cell_type": "code",
   "execution_count": null,
   "metadata": {},
   "outputs": [],
   "source": [
    "_ = plt.hist(all_dices[:, 1], bins=100)"
   ]
  },
  {
   "attachments": {},
   "cell_type": "markdown",
   "metadata": {},
   "source": [
    "<h3> Whole image test </h3>"
   ]
  },
  {
   "cell_type": "code",
   "execution_count": null,
   "metadata": {},
   "outputs": [],
   "source": [
    "data_path = '/workspace/codebase/preprocessor/images/test_data'\n",
    "data_path = cbs.DATA_PATH / 'hecktor2022'"
   ]
  },
  {
   "cell_type": "code",
   "execution_count": null,
   "metadata": {},
   "outputs": [],
   "source": [
    "ie_module = image_evaluation.ImageEvaluationModule(\n",
    "    checkpoint_path=epath.Path(checkpoint_path),\n",
    "    exp_config=config_file,\n",
    "    data_path=epath.Path(data_path),\n",
    "    phase=term.Phase.TEST,\n",
    "    subvolume_size=(256, 256, 32),\n",
    "    modalities=[term.Modality.CT, term.Modality.PET],\n",
    "    reference_modality=term.Modality.CT,\n",
    "    key_word='CT.nii.gz'\n",
    ")"
   ]
  },
  {
   "cell_type": "code",
   "execution_count": null,
   "metadata": {},
   "outputs": [],
   "source": [
    "id = 'CHUM-024'\n",
    "id = 'CHUP-017'\n",
    "id = 'CHUV-036'"
   ]
  },
  {
   "cell_type": "code",
   "execution_count": null,
   "metadata": {},
   "outputs": [],
   "source": [
    "\n",
    "ie_module.cohort_predict([id])"
   ]
  },
  {
   "cell_type": "code",
   "execution_count": null,
   "metadata": {},
   "outputs": [],
   "source": [
    "subject = ie_module.get_prediction_label_pair(id=id, load_images=True)"
   ]
  },
  {
   "cell_type": "code",
   "execution_count": null,
   "metadata": {},
   "outputs": [],
   "source": [
    "print(subject['PT'].shape, subject['PT'].spacing)\n",
    "print(subject['CT'].shape, subject['CT'].spacing)\n",
    "print(subject['LABEL'].shape, subject['LABEL'].spacing)\n",
    "print(subject['PREDICT'].shape, subject['PREDICT'].spacing)"
   ]
  },
  {
   "cell_type": "code",
   "execution_count": null,
   "metadata": {},
   "outputs": [],
   "source": [
    "ie_module.comparison_plot(subject, nslice=150)"
   ]
  },
  {
   "cell_type": "code",
   "execution_count": null,
   "metadata": {},
   "outputs": [],
   "source": [
    "ie_module.calculate_dice(ids=[id])"
   ]
  },
  {
   "cell_type": "markdown",
   "metadata": {},
   "source": [
    "<h3> Cohort Test </h3>"
   ]
  },
  {
   "cell_type": "code",
   "execution_count": null,
   "metadata": {},
   "outputs": [],
   "source": [
    "test_folder = cbs.DATA_PATH / 'hecktor2022'"
   ]
  },
  {
   "cell_type": "code",
   "execution_count": null,
   "metadata": {},
   "outputs": [],
   "source": [
    "ie_module = image_evaluation.ImageEvaluationModule(\n",
    "    checkpoint_path=epath.Path(checkpoint_path),\n",
    "    exp_config=config_file,\n",
    "    data_path=epath.Path(test_folder),\n",
    "    phase=term.Phase.TEST,\n",
    "    subvolume_size=(256, 256, 32),\n",
    "    modalities=[term.Modality.CT, term.Modality.PET],\n",
    "    reference_modality=term.Modality.CT,\n",
    "    key_word='CT.nii.gz'\n",
    ")"
   ]
  },
  {
   "cell_type": "code",
   "execution_count": null,
   "metadata": {},
   "outputs": [],
   "source": [
    "test_patients = ie_module.get_patient_lists()\n",
    "len(test_patients)"
   ]
  },
  {
   "cell_type": "code",
   "execution_count": null,
   "metadata": {},
   "outputs": [],
   "source": [
    "ie_module.cohort_predict(test_patients)"
   ]
  },
  {
   "cell_type": "code",
   "execution_count": null,
   "metadata": {},
   "outputs": [],
   "source": [
    "dices = ie_module.calculate_dice(ids=test_patients)"
   ]
  },
  {
   "cell_type": "code",
   "execution_count": null,
   "metadata": {},
   "outputs": [],
   "source": [
    "print(np.mean(dices[:, 0]))\n",
    "print(np.mean(dices[:, 1]))\n",
    "_ = plt.hist(dices[:, 1], bins=100)"
   ]
  },
  {
   "cell_type": "code",
   "execution_count": null,
   "metadata": {},
   "outputs": [],
   "source": [
    "import torchio as tio\n"
   ]
  },
  {
   "cell_type": "code",
   "execution_count": null,
   "metadata": {},
   "outputs": [],
   "source": [
    "image_file = cbs.DATA_PATH / 'hecktor2022' / 'images' / 'MDA-190__CT.nii.gz'\n",
    "label_file = cbs.DATA_PATH / 'hecktor2022' / 'labels' / 'MDA-190.nii.gz'"
   ]
  },
  {
   "cell_type": "code",
   "execution_count": null,
   "metadata": {},
   "outputs": [],
   "source": [
    "image = tio.ScalarImage(image_file)\n",
    "print(image.spatial_shape)\n",
    "label = tio.LabelMap(label_file)\n",
    "print(label.spatial_shape)"
   ]
  },
  {
   "cell_type": "code",
   "execution_count": null,
   "metadata": {},
   "outputs": [],
   "source": [
    "print(image.spacing)\n",
    "print(label.spacing)"
   ]
  }
 ],
 "metadata": {
  "language_info": {
   "name": "python",
   "pygments_lexer": "ipython3"
  }
 },
 "nbformat": 4,
 "nbformat_minor": 2
}
