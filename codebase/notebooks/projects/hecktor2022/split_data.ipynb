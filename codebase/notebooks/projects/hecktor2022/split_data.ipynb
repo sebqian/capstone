{
 "cells": [
  {
   "attachments": {},
   "cell_type": "markdown",
   "metadata": {},
   "source": [
    "<h3> Use notebook is used to split data into train, valid and test </h3>"
   ]
  },
  {
   "cell_type": "code",
   "execution_count": null,
   "metadata": {},
   "outputs": [],
   "source": [
    "import numpy as np\n",
    "import random\n",
    "import csv\n",
    "from etils import epath\n",
    "\n",
    "import codebase.codebase_settings as cbs"
   ]
  },
  {
   "cell_type": "code",
   "execution_count": null,
   "metadata": {},
   "outputs": [],
   "source": [
    "def _data_split(data_folder: epath.Path):\n",
    "    \"\"\"Split patients and save into csv\"\"\"\n",
    "    all_files = (data_folder / 'labels').glob('*.nii.gz')\n",
    "    all_patients = [patient.stem.split('.')[0] for patient in all_files]\n",
    "    random.shuffle(all_patients)\n",
    "    n_patients = len(all_patients)\n",
    "    n_train = int(n_patients * 0.70)\n",
    "    n_valid = int(n_patients * 0.15)\n",
    "    n_test = n_patients - n_train - n_valid\n",
    "    train = all_patients[0:n_train]\n",
    "    valid = all_patients[n_train:n_train + n_valid]\n",
    "    test = all_patients[n_train + n_valid:]\n",
    "    filename = data_folder / 'hecktor2022_patients_in_train.csv'\n",
    "    np.savetxt(filename, train, delimiter=\",\", fmt='%s')\n",
    "    filename = data_folder / 'hecktor2022_patients_in_valid.csv'\n",
    "    np.savetxt(filename, valid, delimiter=\",\", fmt='%s')\n",
    "    filename = data_folder / 'hecktor2022_patients_in_test.csv'\n",
    "    np.savetxt(filename, test, delimiter=\",\", fmt='%s')\n",
    "    print(f'A total of {n_patients} were split into train: {n_train}, valid: {n_valid} and test: {n_test}')\n"
   ]
  },
  {
   "cell_type": "code",
   "execution_count": null,
   "metadata": {},
   "outputs": [],
   "source": [
    "data_folder = cbs.DATA_PATH / 'hecktor2022'\n",
    "_data_split(data_folder)"
   ]
  },
  {
   "cell_type": "code",
   "execution_count": null,
   "metadata": {},
   "outputs": [],
   "source": [
    "csv_file = data_folder / 'hecktor2022_patients_in_train.csv'\n",
    "with open(csv_file, 'r') as f:\n",
    "    patients = list(csv.reader(f, delimiter=','))\n",
    "    patients = [item for sublist in patients for item in sublist]\n",
    "    print(patients)"
   ]
  }
 ],
 "metadata": {
  "language_info": {
   "name": "python",
   "pygments_lexer": "ipython3"
  }
 },
 "nbformat": 4,
 "nbformat_minor": 2
}
