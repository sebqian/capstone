{
 "cells": [
  {
   "cell_type": "code",
   "execution_count": null,
   "metadata": {},
   "outputs": [],
   "source": [
    "from etils import epath\n",
    "import numpy as np\n",
    "from matplotlib import pyplot as plt\n",
    "import torch\n",
    "import torchio as tio\n",
    "from torchsummary import summary\n",
    "\n",
    "from codebase.preprocessor.images import multi_modal_processor\n",
    "import codebase.terminology as term\n",
    "import codebase.codebase_settings as cbs\n",
    "\n",
    "%load_ext autoreload\n",
    "%autoreload 2"
   ]
  },
  {
   "attachments": {},
   "cell_type": "markdown",
   "metadata": {},
   "source": [
    "<h3> Preprocess data </h3>"
   ]
  },
  {
   "cell_type": "code",
   "execution_count": null,
   "metadata": {},
   "outputs": [],
   "source": [
    "data_folder = cbs.DATA_PATH / 'hecktor2022'\n",
    "modalities = [term.Modality.CT, term.Modality.PET]\n",
    "config_file = cbs.CODEBASE_PATH / 'projects' / 'hecktor2022' / 'experiments' / 'preprocessing.yml'"
   ]
  },
  {
   "cell_type": "code",
   "execution_count": null,
   "metadata": {},
   "outputs": [],
   "source": [
    "hecktor_processor_train = multi_modal_processor.MultiModalProcessor(\n",
    "    data_folder=data_folder,\n",
    "    phase=term.Phase.TRAIN,\n",
    "    modalities=modalities,\n",
    "    reference=term.Modality.CT,\n",
    "    config_path=config_file\n",
    ")"
   ]
  },
  {
   "cell_type": "code",
   "execution_count": null,
   "metadata": {},
   "outputs": [],
   "source": [
    "hecktor_processor_train.preprocess_and_save()"
   ]
  },
  {
   "cell_type": "code",
   "execution_count": null,
   "metadata": {},
   "outputs": [],
   "source": [
    "hecktor_processor_valid = multi_modal_processor.MultiModalProcessor(\n",
    "    data_folder=data_folder,\n",
    "    phase=term.Phase.VALID,\n",
    "    modalities=modalities,\n",
    "    reference=term.Modality.CT,\n",
    "    config_path=config_file\n",
    ")"
   ]
  },
  {
   "cell_type": "code",
   "execution_count": null,
   "metadata": {},
   "outputs": [],
   "source": [
    "hecktor_processor_valid.preprocess_and_save()"
   ]
  },
  {
   "cell_type": "code",
   "execution_count": null,
   "metadata": {},
   "outputs": [],
   "source": [
    "hecktor_processor_test = multi_modal_processor.MultiModalProcessor(\n",
    "    data_folder=data_folder,\n",
    "    phase=term.Phase.TEST,\n",
    "    modalities=modalities,\n",
    "    reference=term.Modality.CT,\n",
    "    config_path=config_file\n",
    ")\n",
    "hecktor_processor_test.preprocess_and_save()"
   ]
  },
  {
   "attachments": {},
   "cell_type": "markdown",
   "metadata": {},
   "source": [
    "<h3> Create subvolumes </h3>"
   ]
  },
  {
   "cell_type": "code",
   "execution_count": null,
   "metadata": {},
   "outputs": [],
   "source": [
    "hecktor_processor_train.create_and_save_subvolumes(data_path=data_folder / 'processed_256x256', \n",
    "                                             valid_channel=[0], subvolume_intervel=8, subvolume_size=32)"
   ]
  },
  {
   "cell_type": "code",
   "execution_count": null,
   "metadata": {},
   "outputs": [],
   "source": [
    "hecktor_processor_valid.create_and_save_subvolumes(data_path=data_folder / 'processed_256x256', \n",
    "                                             valid_channel=[0], subvolume_intervel=8, subvolume_size=32)"
   ]
  },
  {
   "cell_type": "code",
   "execution_count": null,
   "metadata": {},
   "outputs": [],
   "source": [
    "hecktor_processor_test.create_and_save_subvolumes(data_path=data_folder / 'processed_256x256', \n",
    "                                             valid_channel=[0], subvolume_intervel=8, subvolume_size=32)"
   ]
  },
  {
   "attachments": {},
   "cell_type": "markdown",
   "metadata": {},
   "source": [
    "<h3> Debugging </h3>"
   ]
  },
  {
   "cell_type": "code",
   "execution_count": null,
   "metadata": {},
   "outputs": [],
   "source": [
    "label = tio.Image('/workspace/data/hecktor2022/processed_128x128/train/labels/MDA-056.nii.gz')"
   ]
  },
  {
   "cell_type": "code",
   "execution_count": null,
   "metadata": {},
   "outputs": [],
   "source": [
    "idx_slice = 99\n",
    "print(label.shape)\n",
    "plt.imshow(label.data[1, :, :, idx_slice])"
   ]
  },
  {
   "cell_type": "code",
   "execution_count": null,
   "metadata": {},
   "outputs": [],
   "source": [
    "import plotly.express as px"
   ]
  },
  {
   "cell_type": "code",
   "execution_count": null,
   "metadata": {},
   "outputs": [],
   "source": [
    "# all_imgs = [label.data[0, :, :, :].numpy(), label.data[1, :, :, :].numpy(), label.data[2, :, :, :].numpy(),]\n",
    "all_imgs = torch.swapaxes(label.data, 1, 3)\n",
    "px.imshow(\n",
    "    all_imgs.numpy(),\n",
    "    # zmin=[0, 0, 0],\n",
    "    # zmax=[2000, 2000, 2000],\n",
    "    animation_frame=1,\n",
    "    # binary_string=gray_scale,\n",
    "    labels={'animation_frame': 'slice'},\n",
    "    facet_col=0,\n",
    "    color_continuous_scale='Gray',\n",
    "    width=500*3, height=500\n",
    ")"
   ]
  },
  {
   "cell_type": "code",
   "execution_count": null,
   "metadata": {},
   "outputs": [],
   "source": [
    "weight = tio.Image('/workspace/data/hecktor2022/processed_128x128/train/labels/MDA-056.nii.gz')"
   ]
  },
  {
   "cell_type": "code",
   "execution_count": null,
   "metadata": {},
   "outputs": [],
   "source": [
    "weight.shape"
   ]
  },
  {
   "cell_type": "code",
   "execution_count": null,
   "metadata": {},
   "outputs": [],
   "source": [
    "filename = 'patient_stats.csv'\n",
    "columns = ['ID', 'GTVp volume', 'GTVn volume']\n",
    "hecktor_processor_train.calculate_volumes(data_path=data_folder / 'processed_128x128', output_file=filename, channels=[1, 2], column_names=columns)"
   ]
  },
  {
   "cell_type": "code",
   "execution_count": null,
   "metadata": {},
   "outputs": [],
   "source": [
    "hecktor_processor_valid.calculate_volumes(data_path=data_folder / 'processed_128x128', output_file=filename, channels=[1, 2], column_names=columns)"
   ]
  }
 ],
 "metadata": {
  "language_info": {
   "name": "python",
   "pygments_lexer": "ipython3"
  }
 },
 "nbformat": 4,
 "nbformat_minor": 2
}
