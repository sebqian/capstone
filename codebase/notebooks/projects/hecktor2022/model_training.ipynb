{
 "cells": [
  {
   "cell_type": "code",
   "execution_count": null,
   "metadata": {},
   "outputs": [],
   "source": [
    "import torch\n",
    "import numpy as np\n",
    "import plotly.express as px\n",
    "import matplotlib.pyplot as plt\n",
    "import itertools\n",
    "\n",
    "\n",
    "import codebase.codebase_settings as cbs\n",
    "from codebase.projects.hecktor2022.trainers import hecktor_trainer\n",
    "from codebase.projects.hecktor2022 import hecktor_train\n",
    "\n",
    "%load_ext autoreload\n",
    "%autoreload 2\n"
   ]
  },
  {
   "cell_type": "code",
   "execution_count": null,
   "metadata": {},
   "outputs": [],
   "source": [
    "config_file = cbs.CODEBASE_PATH / 'projects' / 'hecktor2022' / 'experiments' / 'test_config.yml'\n",
    "config_file = cbs.CODEBASE_PATH / 'projects' / 'hecktor2022' / 'experiments' / 'experiment_config.yml'\n",
    "trainer = hecktor_trainer.Trainer(str(config_file))\n",
    "# train_losses, valid_losses, train_metrics, valid_metrics = trainer.train()\n",
    "# trainer.train_one_epoch(1, trainer.train_loader, 3)\n"
   ]
  },
  {
   "cell_type": "code",
   "execution_count": null,
   "metadata": {},
   "outputs": [],
   "source": [
    "test_checkpoint_path = cbs.CODEBASE_PATH / 'preprocessor' / 'images' / 'test_data' / 'processed_128x128' / 'subvolume_32' / 'experiments'\n",
    "test_checkpoint_path = test_checkpoint_path / 'hecktor_test' / 'best_model.pth'\n",
    "\n",
    "experiment_check_path = cbs.DATA_PATH / 'hecktor2022' / 'processed_128x128' / 'subvolume_32' / 'set1' / 'experiments'\n",
    "experiment_check_path = experiment_check_path / 'hecktor_exp061323' / 'gfd_1class_best_model.pth'\n",
    "\n",
    "history = trainer.train_by_epochs(experiment_check_path)"
   ]
  },
  {
   "attachments": {},
   "cell_type": "markdown",
   "metadata": {},
   "source": [
    "<h> Lightning Training module </h>"
   ]
  },
  {
   "cell_type": "code",
   "execution_count": null,
   "metadata": {},
   "outputs": [],
   "source": [
    "config_file = cbs.CODEBASE_PATH / 'projects' / 'hecktor2022' / 'experiments' / 'test_config.yml'\n",
    "config_file = cbs.CODEBASE_PATH / 'projects' / 'hecktor2022' / 'experiments' / 'experiment_config.yml'\n",
    "hecktor_train.main(config_file)"
   ]
  },
  {
   "attachments": {},
   "cell_type": "markdown",
   "metadata": {},
   "source": [
    "<h3> Evaluation </h3>"
   ]
  },
  {
   "cell_type": "code",
   "execution_count": null,
   "metadata": {},
   "outputs": [],
   "source": [
    "plt.plot(list(itertools.chain.from_iterable(history['train']['dice'])))\n",
    "plt.plot(list(itertools.chain.from_iterable(history['valid']['dice'])))"
   ]
  },
  {
   "cell_type": "code",
   "execution_count": null,
   "metadata": {},
   "outputs": [],
   "source": [
    "history['train']"
   ]
  },
  {
   "cell_type": "code",
   "execution_count": null,
   "metadata": {},
   "outputs": [],
   "source": [
    "list(itertools.chain.from_iterable(history['train']['loss']))"
   ]
  },
  {
   "cell_type": "code",
   "execution_count": null,
   "metadata": {},
   "outputs": [],
   "source": [
    "n_classes, batch_size = 3, 2\n",
    "spatial_shape = (4, 4, 4)\n",
    "y = torch.randint(0, n_classes, size=(batch_size, 1, *spatial_shape)).long()"
   ]
  },
  {
   "cell_type": "code",
   "execution_count": null,
   "metadata": {},
   "outputs": [],
   "source": [
    "y.shape"
   ]
  },
  {
   "cell_type": "code",
   "execution_count": null,
   "metadata": {},
   "outputs": [],
   "source": [
    "from monai.networks.utils import one_hot\n",
    "z = one_hot(y, 3)\n",
    "z.shape"
   ]
  },
  {
   "cell_type": "code",
   "execution_count": null,
   "metadata": {},
   "outputs": [],
   "source": [
    "print(z[1, 0, 2, 2, 3])\n",
    "print(z[1, 1, 2, 2, 3])\n",
    "print(z[1, 2, 2, 2, 3])"
   ]
  },
  {
   "cell_type": "code",
   "execution_count": null,
   "metadata": {},
   "outputs": [],
   "source": []
  }
 ],
 "metadata": {
  "language_info": {
   "name": "python",
   "pygments_lexer": "ipython3"
  }
 },
 "nbformat": 4,
 "nbformat_minor": 2
}
