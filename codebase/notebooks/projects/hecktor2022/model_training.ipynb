{
 "cells": [
  {
   "cell_type": "code",
   "execution_count": null,
   "metadata": {},
   "outputs": [],
   "source": [
    "import torch\n",
    "import numpy as np\n",
    "import plotly.express as px\n",
    "import matplotlib.pyplot as plt\n",
    "import itertools\n",
    "\n",
    "\n",
    "import codebase.codebase_settings as cbs\n",
    "from codebase.projects.hecktor2022.trainers import hecktor_trainer\n",
    "from codebase.projects.hecktor2022 import hecktor_train\n",
    "\n",
    "%load_ext autoreload\n",
    "%autoreload 2\n"
   ]
  },
  {
   "attachments": {},
   "cell_type": "markdown",
   "metadata": {},
   "source": [
    "<h3> obsolete training section </h3>"
   ]
  },
  {
   "cell_type": "code",
   "execution_count": null,
   "metadata": {},
   "outputs": [],
   "source": [
    "config_file = cbs.CODEBASE_PATH / 'projects' / 'hecktor2022' / 'experiments' / 'test_config.yml'\n",
    "# config_file = cbs.CODEBASE_PATH / 'projects' / 'hecktor2022' / 'experiments' / 'experiment_config.yml'\n",
    "trainer = hecktor_trainer.Trainer(str(config_file))\n"
   ]
  },
  {
   "cell_type": "code",
   "execution_count": null,
   "metadata": {},
   "outputs": [],
   "source": [
    "# test_checkpoint_path = cbs.CODEBASE_PATH / 'preprocessor' / 'images' / 'test_data' / 'processed_128x128' / 'subvolume_32' / 'experiments'\n",
    "# test_checkpoint_path = test_checkpoint_path / 'hecktor_test' / 'best_model.pth'\n",
    "\n",
    "experiment_check_path = cbs.DATA_PATH / 'hecktor2022' / 'processed_128x128' / 'subvolume_32' / 'set1' / 'experiments'\n",
    "experiment_check_path = experiment_check_path / 'hecktor_exp061323' / 'gfd_1class_best_model.pth'\n",
    "\n",
    "history = trainer.train_by_epochs(experiment_check_path)"
   ]
  },
  {
   "attachments": {},
   "cell_type": "markdown",
   "metadata": {},
   "source": [
    "<h3> Lightning Training module </h3>"
   ]
  },
  {
   "cell_type": "code",
   "execution_count": null,
   "metadata": {},
   "outputs": [],
   "source": [
    "config_file = cbs.CODEBASE_PATH / 'projects' / 'hecktor2022' / 'experiments' / 'test_config.yml'\n",
    "# config_file = cbs.CODEBASE_PATH / 'projects' / 'hecktor2022' / 'experiments' / 'experiment_config.yml'\n",
    "hecktor_train.main(config_file)"
   ]
  },
  {
   "attachments": {},
   "cell_type": "markdown",
   "metadata": {},
   "source": [
    "<h3> Debug Only </h3>"
   ]
  },
  {
   "cell_type": "code",
   "execution_count": null,
   "metadata": {},
   "outputs": [],
   "source": [
    "import matplotlib.pyplot as plt"
   ]
  },
  {
   "cell_type": "code",
   "execution_count": null,
   "metadata": {},
   "outputs": [],
   "source": [
    "label_file = '/workspace/codebase/dataloader/images/test_data/train/labels/CHUP-052_108__label.npy'\n",
    "label_data = np.load(label_file)\n",
    "print(label_data.shape)\n",
    "print(np.max(label_data))\n",
    "img_file = '/workspace/codebase/dataloader/images/test_data/train/images/CHUP-052_108__input.npy'\n",
    "img_data = np.load(img_file)\n",
    "\n",
    "loader_label_file = '/workspace/codebase/dataloader/images/test_data/temp__label.npy'\n",
    "loader_image_file = '/workspace/codebase/dataloader/images/test_data/temp__input.npy'\n",
    "loader_label = np.load(loader_label_file)\n",
    "loader_image = np.load(loader_image_file)\n"
   ]
  },
  {
   "cell_type": "code",
   "execution_count": null,
   "metadata": {},
   "outputs": [],
   "source": [
    "nslice = 10\n",
    "fig, ax = plt.subplots(2, 4, figsize= (12, 6))\n",
    "ax[0, 0].imshow(img_data[0, :, :, nslice], cmap='Greys')\n",
    "ax[0, 1].imshow(img_data[1, :, :, nslice], cmap='RdBu')\n",
    "ax[0, 2].imshow(label_data[0, :, :, nslice], cmap='RdBu', vmax=2, vmin=0)\n",
    "ax[0, 3].imshow(label_data[0, :, :, nslice], cmap='RdBu', vmax=2, vmin=0)\n",
    "ax[1, 0].imshow(loader_image[0, :, :, nslice], cmap='Greys')\n",
    "ax[1, 1].imshow(loader_image[1, :, :, nslice], cmap='RdBu')\n",
    "ax[1, 2].imshow(loader_label[1, :, :, nslice], cmap='RdBu', vmax=2, vmin=0)\n",
    "ax[1, 3].imshow(loader_label[2, :, :, nslice], cmap='RdBu', vmax=2, vmin=0)\n"
   ]
  },
  {
   "cell_type": "code",
   "execution_count": null,
   "metadata": {},
   "outputs": [],
   "source": [
    "loader_label[1, 170:180, 140:150, nslice]"
   ]
  },
  {
   "cell_type": "code",
   "execution_count": null,
   "metadata": {},
   "outputs": [],
   "source": [
    "torch.sum(torch.eq(torch.round(torch.Tensor(label_data)), 2))"
   ]
  }
 ],
 "metadata": {
  "language_info": {
   "name": "python",
   "pygments_lexer": "ipython3"
  }
 },
 "nbformat": 4,
 "nbformat_minor": 2
}
