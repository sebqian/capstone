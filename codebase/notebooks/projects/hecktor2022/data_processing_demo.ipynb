{
 "cells": [
  {
   "cell_type": "code",
   "execution_count": null,
   "metadata": {},
   "outputs": [],
   "source": [
    "from etils import epath\n",
    "import numpy as np\n",
    "from matplotlib import pyplot as plt\n",
    "import torch\n",
    "import torchio as tio\n",
    "from torchsummary import summary\n",
    "import plotly.express as px\n",
    "\n",
    "from codebase.preprocessor.images import multi_modal_processor\n",
    "from codebase.dataloader.images import multi_modal_dataloader\n",
    "import codebase.terminology as term\n",
    "import codebase.codebase_settings as cbs\n",
    "\n",
    "%load_ext autoreload\n",
    "%autoreload 2"
   ]
  },
  {
   "attachments": {},
   "cell_type": "markdown",
   "metadata": {},
   "source": [
    "<h3> Preprossing data </h3>"
   ]
  },
  {
   "cell_type": "code",
   "execution_count": null,
   "metadata": {},
   "outputs": [],
   "source": [
    "data_folder = cbs.CODEBASE_PATH / 'preprocessor' / 'images' / 'test_data'\n",
    "hecktor_processor_train = multi_modal_processor.MultiModalProcessor(\n",
    "    data_folder=data_folder, phase=term.Phase.TRAIN, modalities=[term.Modality.CT, term.Modality.PET],\n",
    "    reference=term.Modality.CT, problem_type=term.ProblemType.SEGMENTATION, desired_voxel_size=(1.0, 1.0, 2.0))"
   ]
  },
  {
   "attachments": {},
   "cell_type": "markdown",
   "metadata": {},
   "source": [
    "<h> Original data </h>"
   ]
  },
  {
   "cell_type": "code",
   "execution_count": null,
   "metadata": {},
   "outputs": [],
   "source": [
    "# create raw subject\n",
    "subject = hecktor_processor_train.create_subject('MDA-103')\n",
    "subject"
   ]
  },
  {
   "cell_type": "code",
   "execution_count": null,
   "metadata": {},
   "outputs": [],
   "source": [
    "print(subject['CT'].shape)\n",
    "print(subject['CT'].orientation)\n",
    "subject['CT'].plot()"
   ]
  },
  {
   "cell_type": "code",
   "execution_count": null,
   "metadata": {},
   "outputs": [],
   "source": [
    "print(subject['PT'].shape)\n",
    "subject['PT'].plot()\n",
    "print(subject['PT'].data.max())\n",
    "print(subject['PT'].data.min())\n",
    "print(subject['PT'].data.mean())\n",
    "print(subject['PT'].data.std())"
   ]
  },
  {
   "cell_type": "code",
   "execution_count": null,
   "metadata": {},
   "outputs": [],
   "source": [
    "pt_data = subject['PT'].numpy().flatten()\n",
    "ax = plt.hist(pt_data[pt_data > 0.05], bins=100)"
   ]
  },
  {
   "cell_type": "code",
   "execution_count": null,
   "metadata": {},
   "outputs": [],
   "source": [
    "print(subject['LABEL'].shape)\n",
    "print(subject['LABEL'].data.max())\n",
    "subject['LABEL'].plot()"
   ]
  },
  {
   "attachments": {},
   "cell_type": "markdown",
   "metadata": {},
   "source": [
    "<h> Resample to reference (PET) </h>"
   ]
  },
  {
   "cell_type": "code",
   "execution_count": null,
   "metadata": {},
   "outputs": [],
   "source": [
    "resampled_subject = hecktor_processor_train.resample_to_reference(subject=subject)"
   ]
  },
  {
   "cell_type": "code",
   "execution_count": null,
   "metadata": {},
   "outputs": [],
   "source": [
    "print(resampled_subject['CT'].shape)\n",
    "print(resampled_subject['CT'].spacing)\n",
    "print(resampled_subject['PT'].spacing)\n",
    "print(resampled_subject['LABEL'].spacing)\n",
    "resampled_subject['CT'].plot()"
   ]
  },
  {
   "cell_type": "code",
   "execution_count": null,
   "metadata": {},
   "outputs": [],
   "source": [
    "pt_data = resampled_subject['PT'].numpy().flatten()\n",
    "ax = plt.hist(pt_data[pt_data > 0.05], bins=100)"
   ]
  },
  {
   "attachments": {},
   "cell_type": "markdown",
   "metadata": {},
   "source": [
    "<h> Apply post_normalization:\n",
    "\n",
    "CT: Clamp + Intensity rescale\n",
    "\n",
    "PET: Normalize to brain </h> "
   ]
  },
  {
   "cell_type": "code",
   "execution_count": null,
   "metadata": {},
   "outputs": [],
   "source": [
    "post_normalization = hecktor_processor_train.create_post_normalization()\n",
    "post_subject = post_normalization(resampled_subject)"
   ]
  },
  {
   "cell_type": "code",
   "execution_count": null,
   "metadata": {},
   "outputs": [],
   "source": [
    "ct_data = post_subject['CT'].numpy()\n",
    "print(f'max: {np.max(ct_data)}')\n",
    "print(f'min: {np.min(ct_data)}')\n",
    "post_subject['CT'].plot()"
   ]
  },
  {
   "cell_type": "code",
   "execution_count": null,
   "metadata": {},
   "outputs": [],
   "source": [
    "pt_data = post_subject['PT'].numpy()\n",
    "print(f'max: {np.max(pt_data)}')\n",
    "print(f'min: {np.min(pt_data)}')\n",
    "post_subject['PT'].plot()"
   ]
  },
  {
   "cell_type": "code",
   "execution_count": null,
   "metadata": {},
   "outputs": [],
   "source": [
    "pt_data[:, :, 0]"
   ]
  },
  {
   "attachments": {},
   "cell_type": "markdown",
   "metadata": {},
   "source": [
    "<h> Create body mask </h>"
   ]
  },
  {
   "cell_type": "code",
   "execution_count": null,
   "metadata": {},
   "outputs": [],
   "source": [
    "body_thresholds = {term.Modality.CT: (0.2, 1), term.Modality.PET: (0.4, 1)}\n",
    "post_subject = hecktor_processor_train.create_body_mask(post_subject, body_thresholds)"
   ]
  },
  {
   "cell_type": "code",
   "execution_count": null,
   "metadata": {},
   "outputs": [],
   "source": [
    "print(post_subject['BODY'].shape)\n",
    "post_subject['BODY'].plot()"
   ]
  },
  {
   "cell_type": "code",
   "execution_count": null,
   "metadata": {},
   "outputs": [],
   "source": [
    "px.imshow(\n",
    "    np.swapaxes(resampled_subject['PT'].numpy(), 1, 3),\n",
    "    # zmin=[0, 0, 0],\n",
    "    # zmax=[2000, 2000, 2000],\n",
    "    animation_frame=1,\n",
    "    # binary_string=gray_scale,\n",
    "    labels={'animation_frame': 'slice'},\n",
    "    facet_col=0,\n",
    "    color_continuous_scale='Gray',\n",
    "    width=500, height=500\n",
    ")"
   ]
  },
  {
   "attachments": {},
   "cell_type": "markdown",
   "metadata": {},
   "source": [
    "<h> Cropping the images </h>"
   ]
  },
  {
   "cell_type": "code",
   "execution_count": null,
   "metadata": {},
   "outputs": [],
   "source": [
    "cropped_subject = hecktor_processor_train.find_bounding_box_and_crop(post_subject, desired_xy_size=(256, 256))"
   ]
  },
  {
   "cell_type": "code",
   "execution_count": null,
   "metadata": {},
   "outputs": [],
   "source": [
    "print(cropped_subject['CT'].shape)\n",
    "print(cropped_subject['CT'].spacing)\n",
    "cropped_subject['PT'].plot()"
   ]
  },
  {
   "cell_type": "code",
   "execution_count": null,
   "metadata": {},
   "outputs": [],
   "source": [
    "(cropped_subject['BODY'].tensor)[..., 150].sum()"
   ]
  },
  {
   "cell_type": "code",
   "execution_count": null,
   "metadata": {},
   "outputs": [],
   "source": [
    "px.imshow(\n",
    "    np.swapaxes(pt_data, 1, 3),\n",
    "    # zmin=[0, 0, 0],\n",
    "    # zmax=[2000, 2000, 2000],\n",
    "    animation_frame=1,\n",
    "    # binary_string=gray_scale,\n",
    "    labels={'animation_frame': 'slice'},\n",
    "    facet_col=0,\n",
    "    color_continuous_scale='Gray',\n",
    "    width=500, height=500\n",
    ")"
   ]
  },
  {
   "cell_type": "code",
   "execution_count": null,
   "metadata": {},
   "outputs": [],
   "source": [
    "plt.hist(pt_data.flatten(), bins=100)"
   ]
  },
  {
   "attachments": {},
   "cell_type": "markdown",
   "metadata": {},
   "source": [
    "<h> Process and save data </h>"
   ]
  },
  {
   "cell_type": "code",
   "execution_count": null,
   "metadata": {},
   "outputs": [],
   "source": [
    "n = hecktor_processor_train.preprocess_and_save(xy_size=(256, 256), weight_modality=term.Modality.PET, weight_threshold=0.5)"
   ]
  },
  {
   "cell_type": "code",
   "execution_count": null,
   "metadata": {},
   "outputs": [],
   "source": [
    "hecktor_processor_valid = multi_modal_processor.MultiModalProcessor(\n",
    "    data_folder=data_folder, phase=term.Phase.VALID, modalities=[term.Modality.CT, term.Modality.PET],\n",
    "    reference=term.Modality.CT, problem_type=term.ProblemType.SEGMENTATION, desired_voxel_size=(1.0, 1.0, 2.0))\n",
    "n = hecktor_processor_valid.preprocess_and_save(xy_size=(256, 256), weight_modality=term.Modality.PET, weight_threshold=0.5)"
   ]
  },
  {
   "cell_type": "code",
   "execution_count": null,
   "metadata": {},
   "outputs": [],
   "source": [
    "hecktor_processor_test = multi_modal_processor.MultiModalProcessor(\n",
    "    data_folder=data_folder, phase=term.Phase.TEST, modalities=[term.Modality.CT, term.Modality.PET],\n",
    "    reference=term.Modality.CT, problem_type=term.ProblemType.SEGMENTATION, desired_voxel_size=1)\n",
    "n = hecktor_processor_test.preprocess_and_save(xy_size=(256, 256), weight_modality=term.Modality.PET, weight_threshold=0.5)"
   ]
  },
  {
   "attachments": {},
   "cell_type": "markdown",
   "metadata": {},
   "source": [
    "<h3> Subvolume generation </h3>"
   ]
  },
  {
   "cell_type": "code",
   "execution_count": null,
   "metadata": {},
   "outputs": [],
   "source": [
    "hecktor_processor_train.create_and_save_subvolumes(data_path=data_folder / 'processed_256x256', \n",
    "                                             valid_channel=[0], subvolume_intervel=8, subvolume_size=32)"
   ]
  },
  {
   "cell_type": "code",
   "execution_count": null,
   "metadata": {},
   "outputs": [],
   "source": [
    "image = np.load(str(data_folder / 'processed_256x256/subvolume_32/train/images/CHUP-052_52__input.npy'))\n",
    "label = np.load(str(data_folder / 'processed_256x256/subvolume_32/train/labels/CHUP-052_52__label.npy'))"
   ]
  },
  {
   "cell_type": "code",
   "execution_count": null,
   "metadata": {},
   "outputs": [],
   "source": [
    "print(image.shape, label.shape)"
   ]
  },
  {
   "cell_type": "code",
   "execution_count": null,
   "metadata": {},
   "outputs": [],
   "source": [
    "# all_imgs = [label.data[0, :, :, :].numpy(), label.data[1, :, :, :].numpy(), label.data[2, :, :, :].numpy(),]\n",
    "all_imgs = np.swapaxes(label, 1, 3)\n",
    "px.imshow(\n",
    "    all_imgs,\n",
    "    # zmin=[0, 0, 0],\n",
    "    # zmax=[2000, 2000, 2000],\n",
    "    animation_frame=1,\n",
    "    # binary_string=gray_scale,\n",
    "    labels={'animation_frame': 'slice'},\n",
    "    facet_col=0,\n",
    "    color_continuous_scale='Gray',\n",
    "    width=500, height=500\n",
    ")"
   ]
  },
  {
   "cell_type": "code",
   "execution_count": null,
   "metadata": {},
   "outputs": [],
   "source": [
    "hecktor_processor_valid.create_and_save_subvolumes(data_path=data_folder / 'processed_256x256', \n",
    "                                             valid_channel=[0], subvolume_intervel=8, subvolume_size=32)"
   ]
  },
  {
   "cell_type": "code",
   "execution_count": null,
   "metadata": {},
   "outputs": [],
   "source": [
    "hecktor_processor_test.create_and_save_subvolumes(data_path=data_folder / 'processed_256x256', \n",
    "                                             valid_channel=[0], subvolume_intervel=8, subvolume_size=32)"
   ]
  }
 ],
 "metadata": {
  "language_info": {
   "name": "python",
   "pygments_lexer": "ipython3"
  }
 },
 "nbformat": 4,
 "nbformat_minor": 2
}
