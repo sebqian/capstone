{
 "cells": [
  {
   "cell_type": "code",
   "execution_count": null,
   "metadata": {},
   "outputs": [],
   "source": [
    "import numpy as np\n",
    "import torchio as tio\n",
    "import matplotlib.pyplot as plt\n",
    "\n",
    "import codebase.codebase_settings as cbs"
   ]
  },
  {
   "cell_type": "code",
   "execution_count": null,
   "metadata": {},
   "outputs": [],
   "source": [
    "def comparison_plot(images, nslice: int):\n",
    "    nimages = len(images)\n",
    "    fig, axes = plt.subplots(1, nimages, num=1, clear=True, figsize=(nimages * 4, nimages))\n",
    "    for i in range(nimages):\n",
    "        axes[i].imshow(images[i][0, :, :, nslice])\n",
    "    plt.tight_layout()\n",
    "    plt.show()"
   ]
  },
  {
   "cell_type": "code",
   "execution_count": null,
   "metadata": {},
   "outputs": [],
   "source": [
    "raw_data_path = cbs.CODEBASE_PATH / 'preprocessor' / 'images' / 'test_data'\n",
    "raw_data_path = cbs.DATA_PATH / 'hecktor2022'\n",
    "id = 'CHUP-052'\n",
    "id = 'CHUP-017'\n",
    "id = 'CHUP-028'"
   ]
  },
  {
   "cell_type": "code",
   "execution_count": null,
   "metadata": {},
   "outputs": [],
   "source": [
    "raw_ct = tio.ScalarImage(raw_data_path / 'images' / (id + '__CT.nii.gz'))\n",
    "print(raw_ct.shape, raw_ct.spacing)\n",
    "raw_pt = tio.ScalarImage(raw_data_path / 'images' / (id + '__PT.nii.gz'))\n",
    "print(raw_pt.shape, raw_pt.spacing)\n",
    "raw_lb = tio.LabelMap(raw_data_path / 'labels' / (id + '.nii.gz'))\n",
    "print(raw_lb.shape, raw_lb.spacing)"
   ]
  },
  {
   "cell_type": "code",
   "execution_count": null,
   "metadata": {},
   "outputs": [],
   "source": [
    "comparison_plot([raw_ct.data, raw_pt.data, raw_lb.data], nslice=10)"
   ]
  },
  {
   "cell_type": "code",
   "execution_count": null,
   "metadata": {},
   "outputs": [],
   "source": [
    "data_path = cbs.CODEBASE_PATH / 'preprocessor' / 'images' / 'test_data' / 'processed_256x256' / 'train'\n",
    "data_path = cbs.DATA_PATH / 'hecktor2022' / 'processed_256x256' / 'train'"
   ]
  },
  {
   "cell_type": "code",
   "execution_count": null,
   "metadata": {},
   "outputs": [],
   "source": [
    "ct = tio.ScalarImage(data_path / 'images' / (id + '__CT.nii.gz'))\n",
    "print(ct.shape, ct.spacing)\n",
    "pt = tio.ScalarImage(data_path / 'images' / (id + '__PT.nii.gz'))\n",
    "print(pt.shape, pt.spacing)\n",
    "lb = tio.LabelMap(data_path / 'labels' / (id + '.nii.gz'))\n",
    "print(lb.shape, lb.spacing)"
   ]
  },
  {
   "cell_type": "code",
   "execution_count": null,
   "metadata": {},
   "outputs": [],
   "source": [
    "comparison_plot([ct.data, pt.data, lb.data], nslice=80)"
   ]
  },
  {
   "cell_type": "code",
   "execution_count": null,
   "metadata": {},
   "outputs": [],
   "source": [
    "subvolume_data_path = cbs.CODEBASE_PATH / 'preprocessor' / 'images' / 'test_data' / 'processed_256x256' / 'subvolume_32' / 'train'\n",
    "subvolume_data_path = cbs.DATA_PATH / 'hecktor2022' / 'processed_256x256' / 'subvolume_32' / 'train'"
   ]
  },
  {
   "cell_type": "code",
   "execution_count": null,
   "metadata": {},
   "outputs": [],
   "source": [
    "sub_id = '_141'\n",
    "sub_input = np.load(subvolume_data_path / 'images' / (id + sub_id + '__input.npy'))\n",
    "sub_ct = sub_input[0:1, ...]\n",
    "print(sub_ct.shape)\n",
    "sub_pt = sub_input[1:, ...]\n",
    "print(sub_pt.shape)\n",
    "sub_lb = np.load(subvolume_data_path / 'labels' / (id + sub_id + '__label.npy'))\n",
    "print(sub_lb.shape)"
   ]
  },
  {
   "cell_type": "code",
   "execution_count": null,
   "metadata": {},
   "outputs": [],
   "source": [
    "comparison_plot([sub_ct, sub_pt, sub_lb], nslice=31)"
   ]
  }
 ],
 "metadata": {
  "language_info": {
   "name": "python",
   "pygments_lexer": "ipython3"
  }
 },
 "nbformat": 4,
 "nbformat_minor": 2
}
