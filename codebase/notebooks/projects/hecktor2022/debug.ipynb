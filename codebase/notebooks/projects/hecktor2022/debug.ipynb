{
 "cells": [
  {
   "cell_type": "code",
   "execution_count": null,
   "metadata": {},
   "outputs": [],
   "source": [
    "import numpy as np\n",
    "import torchio as tio\n",
    "import matplotlib.pyplot as plt\n",
    "\n",
    "import codebase.codebase_settings as cbs\n",
    "from codebase.projects.hecktor2022 import read_config"
   ]
  },
  {
   "cell_type": "code",
   "execution_count": null,
   "metadata": {},
   "outputs": [],
   "source": [
    "def comparison_plot(images, nslice: int):\n",
    "    nimages = len(images)\n",
    "    fig, axes = plt.subplots(1, nimages, num=1, clear=True, figsize=(nimages * 4, nimages))\n",
    "    for i in range(nimages):\n",
    "        axes[i].imshow(images[i][0, :, :, nslice])\n",
    "    plt.tight_layout()\n",
    "    plt.show()"
   ]
  },
  {
   "cell_type": "code",
   "execution_count": null,
   "metadata": {},
   "outputs": [],
   "source": [
    "raw_data_path = cbs.CODEBASE_PATH / 'preprocessor' / 'images' / 'test_data' \n",
    "# raw_data_path = cbs.DATA_PATH / 'hecktor2022'\n",
    "id = 'CHUP-052'\n",
    "# id = 'CHUP-017'\n",
    "# id = 'CHUP-028'"
   ]
  },
  {
   "cell_type": "code",
   "execution_count": null,
   "metadata": {},
   "outputs": [],
   "source": [
    "raw_ct = tio.ScalarImage(raw_data_path / 'images' / (id + '__CT.nii.gz'))\n",
    "print(raw_ct.shape, raw_ct.spacing)\n",
    "raw_pt = tio.ScalarImage(raw_data_path / 'images' / (id + '__PT.nii.gz'))\n",
    "print(raw_pt.shape, raw_pt.spacing)\n",
    "raw_lb = tio.LabelMap(raw_data_path / 'labels' / (id + '.nii.gz'))\n",
    "print(raw_lb.shape, raw_lb.spacing)"
   ]
  },
  {
   "cell_type": "code",
   "execution_count": null,
   "metadata": {},
   "outputs": [],
   "source": [
    "comparison_plot([raw_ct.data, raw_pt.data, raw_lb.data], nslice=150)"
   ]
  },
  {
   "cell_type": "code",
   "execution_count": null,
   "metadata": {},
   "outputs": [],
   "source": [
    "data_path = cbs.CODEBASE_PATH / 'preprocessor' / 'images' / 'test_data' / 'processed_256x256' / 'train'\n",
    "# data_path = cbs.DATA_PATH / 'hecktor2022' / 'processed_256x256' / 'train'"
   ]
  },
  {
   "cell_type": "code",
   "execution_count": null,
   "metadata": {},
   "outputs": [],
   "source": [
    "ct = tio.ScalarImage(data_path / 'images' / (id + '__CT.nii.gz'))\n",
    "print(ct.shape, ct.spacing)\n",
    "pt = tio.ScalarImage(data_path / 'images' / (id + '__PT.nii.gz'))\n",
    "print(pt.shape, pt.spacing)\n",
    "lb = tio.LabelMap(data_path / 'labels' / (id + '.nii.gz'))\n",
    "print(lb.shape, lb.spacing)"
   ]
  },
  {
   "cell_type": "code",
   "execution_count": null,
   "metadata": {},
   "outputs": [],
   "source": [
    "comparison_plot([ct.data, pt.data, lb.data], nslice=75)"
   ]
  },
  {
   "cell_type": "code",
   "execution_count": null,
   "metadata": {},
   "outputs": [],
   "source": [
    "subvolume_data_path = cbs.CODEBASE_PATH / 'preprocessor' / 'images' / 'test_data' / 'processed_256x256' / 'subvolume_32' / 'train'\n",
    "subvolume_data_path = cbs.DATA_PATH / 'hecktor2022' / 'processed_256x256' / 'subvolume_32' / 'train'"
   ]
  },
  {
   "cell_type": "code",
   "execution_count": null,
   "metadata": {},
   "outputs": [],
   "source": [
    "sub_id = '_117'\n",
    "sub_input = np.load(subvolume_data_path / 'images' / (id + sub_id + '__input.npy'))\n",
    "sub_ct = sub_input[0:1, ...]\n",
    "print(sub_ct.shape)\n",
    "sub_pt = sub_input[1:, ...]\n",
    "print(sub_pt.shape)\n",
    "sub_lb = np.load(subvolume_data_path / 'labels' / (id + sub_id + '__label.npy'))\n",
    "print(sub_lb.shape)"
   ]
  },
  {
   "cell_type": "code",
   "execution_count": null,
   "metadata": {},
   "outputs": [],
   "source": [
    "comparison_plot([sub_ct, sub_pt, sub_lb], nslice=25)"
   ]
  },
  {
   "cell_type": "markdown",
   "metadata": {},
   "source": [
    "<h3> Dataloader </h3>"
   ]
  },
  {
   "cell_type": "code",
   "execution_count": null,
   "metadata": {},
   "outputs": [],
   "source": [
    "from codebase import terminology as term\n",
    "from codebase.dataloader.images import data_module\n",
    "from monai.utils import first"
   ]
  },
  {
   "cell_type": "code",
   "execution_count": null,
   "metadata": {},
   "outputs": [],
   "source": [
    "config_file = cbs.CODEBASE_PATH / 'projects' / 'hecktor2022' / 'experiments' / 'test_config.yml'\n",
    "config = read_config.read_experiment_config(config_file)"
   ]
  },
  {
   "cell_type": "code",
   "execution_count": null,
   "metadata": {},
   "outputs": [],
   "source": [
    "mdata = data_module.MedicalImageDataModule(\n",
    "        task_type=term.ProblemType.SEGMENTATION,\n",
    "        config=config,\n",
    "    )"
   ]
  },
  {
   "cell_type": "code",
   "execution_count": null,
   "metadata": {},
   "outputs": [],
   "source": [
    "mdata.prepare_data()\n",
    "mdata.setup()\n",
    "train_dataloader = mdata.train_dataloader()"
   ]
  },
  {
   "cell_type": "code",
   "execution_count": null,
   "metadata": {},
   "outputs": [],
   "source": [
    "# batch = next(iter(train_dataloader))\n",
    "batch = first(train_dataloader)"
   ]
  },
  {
   "cell_type": "code",
   "execution_count": null,
   "metadata": {},
   "outputs": [],
   "source": [
    "# print(batch)\n",
    "print(batch['input'].shape)"
   ]
  },
  {
   "cell_type": "code",
   "execution_count": null,
   "metadata": {},
   "outputs": [],
   "source": [
    "valid_dataloader = mdata.val_dataloader()"
   ]
  },
  {
   "cell_type": "code",
   "execution_count": null,
   "metadata": {},
   "outputs": [],
   "source": [
    "# batch = next(iter(valid_dataloader))\n",
    "batch = first(valid_dataloader)"
   ]
  },
  {
   "cell_type": "code",
   "execution_count": null,
   "metadata": {},
   "outputs": [],
   "source": [
    "print(batch['label'].shape)"
   ]
  },
  {
   "cell_type": "code",
   "execution_count": null,
   "metadata": {},
   "outputs": [],
   "source": [
    "from monai.data.utils import decollate_batch, _non_zipping_check\n",
    "from monai.transforms import AsDiscrete\n",
    "from collections.abc import Iterable\n",
    "import torch"
   ]
  },
  {
   "cell_type": "code",
   "execution_count": null,
   "metadata": {},
   "outputs": [],
   "source": [
    "x = torch.rand((1, 3, 256, 256, 155))\n",
    "pred_onehot = AsDiscrete(argmax=True, to_onehot=3)\n",
    "x.shape"
   ]
  },
  {
   "cell_type": "code",
   "execution_count": null,
   "metadata": {},
   "outputs": [],
   "source": [
    "_non_zipping_check(x, detach=True, pad=True, fill_value=None)"
   ]
  },
  {
   "cell_type": "code",
   "execution_count": null,
   "metadata": {},
   "outputs": [],
   "source": [
    "assert isinstance(x, Iterable)"
   ]
  },
  {
   "cell_type": "code",
   "execution_count": null,
   "metadata": {},
   "outputs": [],
   "source": [
    "# val_outputs = [pred_onehot(i) for i in decollate_batch(x)]\n",
    "val_outputs = [i for i in x]"
   ]
  },
  {
   "cell_type": "code",
   "execution_count": null,
   "metadata": {},
   "outputs": [],
   "source": [
    "len(val_outputs)"
   ]
  },
  {
   "cell_type": "code",
   "execution_count": null,
   "metadata": {},
   "outputs": [],
   "source": [
    "val_outputs[0].shape"
   ]
  },
  {
   "cell_type": "code",
   "execution_count": null,
   "metadata": {},
   "outputs": [],
   "source": []
  }
 ],
 "metadata": {
  "language_info": {
   "name": "python",
   "pygments_lexer": "ipython3"
  }
 },
 "nbformat": 4,
 "nbformat_minor": 2
}
